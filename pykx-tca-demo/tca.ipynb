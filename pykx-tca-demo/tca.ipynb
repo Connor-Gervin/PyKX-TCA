{
 "cells": [
  {
   "cell_type": "code",
   "execution_count": 1,
   "id": "f0778d2c",
   "metadata": {
    "autorun": true,
    "init_cell": true
   },
   "outputs": [],
   "source": [
    "# Enable PyKX Pandas API\n",
    "import os\n",
    "\n",
    "os.environ[\"PYKX_ENABLE_PANDAS_API\"] = \"true\"\n",
    "\n",
    "# Ignore Warnings\n",
    "import warnings\n",
    "\n",
    "warnings.filterwarnings(\"ignore\")"
   ]
  },
  {
   "cell_type": "markdown",
   "id": "46e004f2",
   "metadata": {},
   "source": [
    "# Transaction Cost Analysis with PyKX\n",
    "\n",
    "This course uses the Python package PyKX and builds upon knowledge presented in the `Intro To PyKX` course that we have available.\n",
    "If you have not already completed this course, we recommend that you do so.\n",
    "You can find it at the following link: https://kx.com/academy/courses/introduction-python-interface/.\n",
    "\n",
    "This notebook walks through the implementation of a classic finance workflow using [PyKX](https://code.kx.com/pykx/). You will be working through a typical task performed by Stock Brokers called [Transaction Cost Analysis (TCA)](#https://en.wikipedia.org/wiki/Transaction_cost_analysis).\n",
    "\n",
    "To make this notebook easier to digest, it is divided into 6 sections:\n",
    "\n",
    "    1. Setup\n",
    "    2. Understanding TCA\n",
    "    3. Reading In The Data\n",
    "    4. Exploring The Data\n",
    "    5. Performing Transaction Cost Analysis\n",
    "    6. Comparing Pandas Vs PyKX\n",
    "\n",
    "\n",
    "The first 5 of these sections will run through how you might use PyKX to perform TCA and to show off some of the unique capabilities of PyKX.\n",
    "\n",
    "Section 6 compares the relative performance of PyKX and Pandas at carrying out this TCA task.\n",
    "Pandas is generally seen as a \"must-use\" tool in the Python data science toolkit and is designed specifically for data manipulation and analysis, so it is an ideal benchmark for this comparison.\n",
    "\n",
    "From this comparison, you will see that PyKX is ~85 times faster than Pandas:\n",
    "\n",
    "![alt text](images/time.png)\n",
    "\n",
    "And that PyKX's memory footprint is ~620 times less than that of Pandas:\n",
    "\n",
    "![alt text](images/memory.png)"
   ]
  },
  {
   "cell_type": "markdown",
   "id": "3e79e071",
   "metadata": {},
   "source": [
    "# ------------------------------------------------------------------------------------------\n",
    "# 1. Setup"
   ]
  },
  {
   "cell_type": "markdown",
   "id": "a22aa3bc",
   "metadata": {},
   "source": [
    "### Import packages"
   ]
  },
  {
   "cell_type": "code",
   "execution_count": 3,
   "id": "0d225a8e",
   "metadata": {},
   "outputs": [
    {
     "name": "stdout",
     "output_type": "stream",
     "text": [
      "The memory_profiler extension is already loaded. To reload it, use:\n",
      "  %reload_ext memory_profiler\n"
     ]
    }
   ],
   "source": [
    "import pykx as kx\n",
    "\n",
    "import numpy as np\n",
    "import pandas as pd\n",
    "\n",
    "from datetime import datetime, timedelta\n",
    "\n",
    "import matplotlib.pyplot as plt\n",
    "\n",
    "%load_ext memory_profiler"
   ]
  },
  {
   "cell_type": "markdown",
   "id": "55f3d680",
   "metadata": {},
   "source": [
    "### Load helper functions"
   ]
  },
  {
   "cell_type": "code",
   "execution_count": 4,
   "id": "b2ebfc41",
   "metadata": {},
   "outputs": [],
   "source": [
    "%load_ext autoreload\n",
    "%autoreload 1\n",
    "\n",
    "%aimport demo_functions\n",
    "import demo_functions as d_funcs"
   ]
  },
  {
   "cell_type": "markdown",
   "id": "e6622b46",
   "metadata": {},
   "source": [
    "### Set console size"
   ]
  },
  {
   "cell_type": "markdown",
   "id": "0d59fad8",
   "metadata": {},
   "source": [
    "Here we configure the output display size by setting:\n",
    " - the maximum amount of rows to output to the console\n",
    " - the maximum characters to display per row"
   ]
  },
  {
   "cell_type": "code",
   "execution_count": 5,
   "id": "66630264",
   "metadata": {},
   "outputs": [],
   "source": [
    "kx.q.system.display_size = [50, 300]"
   ]
  },
  {
   "cell_type": "markdown",
   "id": "72645158",
   "metadata": {},
   "source": [
    "# ------------------------------------------------------------------------------------------\n",
    "# 2. Understanding TCA"
   ]
  },
  {
   "cell_type": "markdown",
   "id": "e309cf8b",
   "metadata": {},
   "source": [
    "### What is Transaction Cost Analysis (TCA)?"
   ]
  },
  {
   "cell_type": "markdown",
   "id": "34ecadc2",
   "metadata": {},
   "source": [
    "TCA is a framework used to analyse and break down the costs associated with buying or selling a financial asset.\n",
    "\n",
    "It helping us to understand:\n",
    "- how much it costs to make a trade,\n",
    "- how that cost compares to the market average."
   ]
  },
  {
   "cell_type": "markdown",
   "id": "5d306d20",
   "metadata": {},
   "source": [
    "##### Amazon Example"
   ]
  },
  {
   "cell_type": "markdown",
   "id": "ccf55365",
   "metadata": {},
   "source": [
    "For example, when you buy something on Amazon, the price you pay is made up of:\n",
    "- the cost of the product itself,\n",
    "- shipping,\n",
    "- maybe some handling fees.\n",
    "\n",
    "<img src=\"images/amazon_example.png\" width=\"900\"/>"
   ]
  },
  {
   "cell_type": "markdown",
   "id": "8a1ef443",
   "metadata": {},
   "source": [
    "##### Stock Example"
   ]
  },
  {
   "cell_type": "markdown",
   "id": "38bc1014",
   "metadata": {},
   "source": [
    "TCA works in a similar way, to help break down the cost of a stock into:\n",
    "- the benchmark price of the stock\n",
    "- slippage (which we will discuss more about later)\n",
    "- broker fees & commissions\n",
    "\n",
    "<img src=\"images/stock_example.png\" width=\"900\"/>"
   ]
  },
  {
   "cell_type": "markdown",
   "id": "6df54ff4",
   "metadata": {},
   "source": [
    "### Why is TCA useful for brokers?"
   ]
  },
  {
   "cell_type": "markdown",
   "id": "039cb2c2",
   "metadata": {},
   "source": [
    "From a brokers perspective, TCA:\n",
    "- helps to demonstrate a regulatory commitment to executing at the best price for clients,\n",
    "- provides transparency to clients on trading costs, helping them to optimise their trading strategies."
   ]
  },
  {
   "cell_type": "markdown",
   "id": "db61cd1f",
   "metadata": {},
   "source": [
    "# ------------------------------------------------------------------------------------------\n",
    "# 3. Reading In The Data"
   ]
  },
  {
   "cell_type": "markdown",
   "id": "38fc026b",
   "metadata": {},
   "source": [
    "To perform these calculations, brokers generally have access to 3 different data sets - quote data, trade data, and execution data.\n",
    "\n",
    "Here, we will read each of these datasets into pykx tables using the [`kx.q.read.csv`](https://code.kx.com/pykx/api/read.html) function.\n",
    "This function enables us to supply a `types` argument which allows us to specify the underlying [q datatypes](https://code.kx.com/q/basics/datatypes/) we want each of the columns being read in to be.\n",
    "\n",
    "Alternatively, reading in the tables could also be done without specifying the `types` argument, whereby, the underlying types will be inferred automatically. In this case, if the inferred types was not the type you wanted, the [`astype`](https://code.kx.com/pykx/1.6/user-guide/advanced/Pandas_API.html#tableastype) function could be applied to the table to convert the types of specific columns to their desired [PyKX types](https://code.kx.com/pykx/1.6/api/wrappers.html)."
   ]
  },
  {
   "cell_type": "markdown",
   "id": "5aaa647f",
   "metadata": {},
   "source": [
    "### Read into Pykx tables"
   ]
  },
  {
   "cell_type": "markdown",
   "id": "23263b6a",
   "metadata": {},
   "source": [
    "##### Quotes"
   ]
  },
  {
   "cell_type": "markdown",
   "id": "bb849df2",
   "metadata": {},
   "source": [
    "The first dataset we're going to read in is the quote data.\n",
    "This gives us a list of the prices that market participants are willing to buy or sell the stock at, given by the bid and ask prices."
   ]
  },
  {
   "cell_type": "code",
   "execution_count": 6,
   "id": "80e08ae8",
   "metadata": {},
   "outputs": [
    {
     "name": "stdout",
     "output_type": "stream",
     "text": [
      "Num Records: 8,946,329\n"
     ]
    },
    {
     "data": {
      "text/html": [
       "<table border=\"1\" class=\"dataframe\">\n",
       "  <thead>\n",
       "    <tr style=\"text-align: right;\">\n",
       "      <th></th>\n",
       "      <th>date</th>\n",
       "      <th>sym</th>\n",
       "      <th>time</th>\n",
       "      <th>bid</th>\n",
       "      <th>ask</th>\n",
       "      <th>bsize</th>\n",
       "      <th>asize</th>\n",
       "      <th>mode</th>\n",
       "      <th>ex</th>\n",
       "    </tr>\n",
       "    <tr>\n",
       "      <th></th>\n",
       "      <th></th>\n",
       "      <th></th>\n",
       "      <th></th>\n",
       "      <th></th>\n",
       "      <th></th>\n",
       "      <th></th>\n",
       "      <th></th>\n",
       "      <th></th>\n",
       "      <th></th>\n",
       "    </tr>\n",
       "  </thead>\n",
       "  <tbody>\n",
       "    <tr>\n",
       "      <th>0</th>\n",
       "      <td>2022.03.31</td>\n",
       "      <td>MQC</td>\n",
       "      <td>04:00:00.005</td>\n",
       "      <td>133.3</td>\n",
       "      <td>260f</td>\n",
       "      <td>1</td>\n",
       "      <td>1</td>\n",
       "      <td>R</td>\n",
       "      <td>K</td>\n",
       "    </tr>\n",
       "    <tr>\n",
       "      <th>1</th>\n",
       "      <td>2022.03.31</td>\n",
       "      <td>MQC</td>\n",
       "      <td>04:00:00.005</td>\n",
       "      <td>223.05</td>\n",
       "      <td>260f</td>\n",
       "      <td>4</td>\n",
       "      <td>1</td>\n",
       "      <td>R</td>\n",
       "      <td>K</td>\n",
       "    </tr>\n",
       "    <tr>\n",
       "      <th>2</th>\n",
       "      <td>2022.03.31</td>\n",
       "      <td>MQC</td>\n",
       "      <td>04:00:00.005</td>\n",
       "      <td>234f</td>\n",
       "      <td>260f</td>\n",
       "      <td>1</td>\n",
       "      <td>1</td>\n",
       "      <td>R</td>\n",
       "      <td>K</td>\n",
       "    </tr>\n",
       "    <tr>\n",
       "      <th>3</th>\n",
       "      <td>2022.03.31</td>\n",
       "      <td>MQC</td>\n",
       "      <td>04:00:00.005</td>\n",
       "      <td>234f</td>\n",
       "      <td>253.39</td>\n",
       "      <td>1</td>\n",
       "      <td>3</td>\n",
       "      <td>R</td>\n",
       "      <td>K</td>\n",
       "    </tr>\n",
       "    <tr>\n",
       "      <th>4</th>\n",
       "      <td>2022.03.31</td>\n",
       "      <td>BKR</td>\n",
       "      <td>04:00:00.006</td>\n",
       "      <td>92.62</td>\n",
       "      <td>94.47</td>\n",
       "      <td>6</td>\n",
       "      <td>1</td>\n",
       "      <td>R</td>\n",
       "      <td>P</td>\n",
       "    </tr>\n",
       "  </tbody>\n",
       "</table>"
      ],
      "text/plain": [
       "pykx.Table(pykx.q('\n",
       "date       sym time         bid    ask    bsize asize mode ex\n",
       "-------------------------------------------------------------\n",
       "2022.03.31 MQC 04:00:00.005 133.3  260    1     1     R    K \n",
       "2022.03.31 MQC 04:00:00.005 223.05 260    4     1     R    K \n",
       "2022.03.31 MQC 04:00:00.005 234    260    1     1     R    K \n",
       "2022.03.31 MQC 04:00:00.005 234    253.39 1     3     R    K \n",
       "2022.03.31 BKR 04:00:00.006 92.62  94.47  6     1     R    P \n",
       "'))"
      ]
     },
     "execution_count": 6,
     "metadata": {},
     "output_type": "execute_result"
    }
   ],
   "source": [
    "pykx_quotes = kx.q.read.csv(\"data/quotes.csv\", types=\"DSTFFJJSS\")\n",
    "d_funcs.count_records_and_print(pykx_quotes)"
   ]
  },
  {
   "cell_type": "markdown",
   "id": "59353bbd",
   "metadata": {},
   "source": [
    "##### Trades"
   ]
  },
  {
   "cell_type": "markdown",
   "id": "7b44ceb1",
   "metadata": {},
   "source": [
    "We'll also read in some trade data.\n",
    "This gives us a list of trades which took place in the market, but not on our brokerage platform."
   ]
  },
  {
   "cell_type": "code",
   "execution_count": 7,
   "id": "5ea69695",
   "metadata": {},
   "outputs": [
    {
     "name": "stdout",
     "output_type": "stream",
     "text": [
      "Num Records: 897,207\n"
     ]
    },
    {
     "data": {
      "text/html": [
       "<table border=\"1\" class=\"dataframe\">\n",
       "  <thead>\n",
       "    <tr style=\"text-align: right;\">\n",
       "      <th></th>\n",
       "      <th>date</th>\n",
       "      <th>sym</th>\n",
       "      <th>time</th>\n",
       "      <th>price</th>\n",
       "      <th>size</th>\n",
       "      <th>stop</th>\n",
       "      <th>cond</th>\n",
       "      <th>ex</th>\n",
       "    </tr>\n",
       "    <tr>\n",
       "      <th></th>\n",
       "      <th></th>\n",
       "      <th></th>\n",
       "      <th></th>\n",
       "      <th></th>\n",
       "      <th></th>\n",
       "      <th></th>\n",
       "      <th></th>\n",
       "      <th></th>\n",
       "    </tr>\n",
       "  </thead>\n",
       "  <tbody>\n",
       "    <tr>\n",
       "      <th>0</th>\n",
       "      <td>2022.03.31</td>\n",
       "      <td>BKR</td>\n",
       "      <td>04:00:00.003</td>\n",
       "      <td>93.21</td>\n",
       "      <td>5</td>\n",
       "      <td>0b</td>\n",
       "      <td>1b</td>\n",
       "      <td>P</td>\n",
       "    </tr>\n",
       "    <tr>\n",
       "      <th>1</th>\n",
       "      <td>2022.03.31</td>\n",
       "      <td>TOUR</td>\n",
       "      <td>04:00:00.003</td>\n",
       "      <td>515.45</td>\n",
       "      <td>1</td>\n",
       "      <td>0b</td>\n",
       "      <td>1b</td>\n",
       "      <td>P</td>\n",
       "    </tr>\n",
       "    <tr>\n",
       "      <th>2</th>\n",
       "      <td>2022.03.31</td>\n",
       "      <td>F.PRA</td>\n",
       "      <td>04:01:50.721</td>\n",
       "      <td>333.99</td>\n",
       "      <td>3</td>\n",
       "      <td>0b</td>\n",
       "      <td>0b</td>\n",
       "      <td>K</td>\n",
       "    </tr>\n",
       "    <tr>\n",
       "      <th>3</th>\n",
       "      <td>2022.03.31</td>\n",
       "      <td>F.PRA</td>\n",
       "      <td>04:04:57.713</td>\n",
       "      <td>332.6</td>\n",
       "      <td>1</td>\n",
       "      <td>0b</td>\n",
       "      <td>1b</td>\n",
       "      <td>P</td>\n",
       "    </tr>\n",
       "    <tr>\n",
       "      <th>4</th>\n",
       "      <td>2022.03.31</td>\n",
       "      <td>AEF</td>\n",
       "      <td>04:06:29.248</td>\n",
       "      <td>617f</td>\n",
       "      <td>2</td>\n",
       "      <td>0b</td>\n",
       "      <td>1b</td>\n",
       "      <td>P</td>\n",
       "    </tr>\n",
       "  </tbody>\n",
       "</table>"
      ],
      "text/plain": [
       "pykx.Table(pykx.q('\n",
       "date       sym   time         price  size stop cond ex\n",
       "------------------------------------------------------\n",
       "2022.03.31 BKR   04:00:00.003 93.21  5    0    1    P \n",
       "2022.03.31 TOUR  04:00:00.003 515.45 1    0    1    P \n",
       "2022.03.31 F.PRA 04:01:50.721 333.99 3    0    0    K \n",
       "2022.03.31 F.PRA 04:04:57.713 332.6  1    0    1    P \n",
       "2022.03.31 AEF   04:06:29.248 617    2    0    1    P \n",
       "'))"
      ]
     },
     "execution_count": 7,
     "metadata": {},
     "output_type": "execute_result"
    }
   ],
   "source": [
    "pykx_trades = kx.q.read.csv(\"data/trades.csv\", types=\"DSTFJBBS\")\n",
    "d_funcs.count_records_and_print(pykx_trades)"
   ]
  },
  {
   "cell_type": "markdown",
   "id": "094c4f83",
   "metadata": {},
   "source": [
    "##### Executions"
   ]
  },
  {
   "cell_type": "markdown",
   "id": "b2d86af4",
   "metadata": {},
   "source": [
    "The final dataset needed is execution data.\n",
    "This is a list of the trades which took place on our platform which we, as the broker, executed against for our clients."
   ]
  },
  {
   "cell_type": "code",
   "execution_count": 8,
   "id": "959a75eb",
   "metadata": {},
   "outputs": [
    {
     "name": "stdout",
     "output_type": "stream",
     "text": [
      "Num Records: 20,458\n"
     ]
    },
    {
     "data": {
      "text/html": [
       "<table border=\"1\" class=\"dataframe\">\n",
       "  <thead>\n",
       "    <tr style=\"text-align: right;\">\n",
       "      <th></th>\n",
       "      <th>date</th>\n",
       "      <th>sym</th>\n",
       "      <th>time</th>\n",
       "      <th>price</th>\n",
       "      <th>size</th>\n",
       "      <th>side</th>\n",
       "      <th>venue</th>\n",
       "    </tr>\n",
       "    <tr>\n",
       "      <th></th>\n",
       "      <th></th>\n",
       "      <th></th>\n",
       "      <th></th>\n",
       "      <th></th>\n",
       "      <th></th>\n",
       "      <th></th>\n",
       "      <th></th>\n",
       "    </tr>\n",
       "  </thead>\n",
       "  <tbody>\n",
       "    <tr>\n",
       "      <th>0</th>\n",
       "      <td>2022.03.31</td>\n",
       "      <td>GE.PRA</td>\n",
       "      <td>09:30:02.676</td>\n",
       "      <td>397.6131</td>\n",
       "      <td>12</td>\n",
       "      <td>BUY</td>\n",
       "      <td>venue1</td>\n",
       "    </tr>\n",
       "    <tr>\n",
       "      <th>1</th>\n",
       "      <td>2022.03.31</td>\n",
       "      <td>MQC</td>\n",
       "      <td>09:30:02.851</td>\n",
       "      <td>254.8359</td>\n",
       "      <td>258</td>\n",
       "      <td>SELL</td>\n",
       "      <td>venue3</td>\n",
       "    </tr>\n",
       "    <tr>\n",
       "      <th>2</th>\n",
       "      <td>2022.03.31</td>\n",
       "      <td>BKR</td>\n",
       "      <td>09:30:03.426</td>\n",
       "      <td>93.64192</td>\n",
       "      <td>154</td>\n",
       "      <td>BUY</td>\n",
       "      <td>venue2</td>\n",
       "    </tr>\n",
       "    <tr>\n",
       "      <th>3</th>\n",
       "      <td>2022.03.31</td>\n",
       "      <td>GE.PRA</td>\n",
       "      <td>09:30:04.489</td>\n",
       "      <td>397.5469</td>\n",
       "      <td>12</td>\n",
       "      <td>SELL</td>\n",
       "      <td>venue2</td>\n",
       "    </tr>\n",
       "    <tr>\n",
       "      <th>4</th>\n",
       "      <td>2022.03.31</td>\n",
       "      <td>DXGE</td>\n",
       "      <td>09:30:06.677</td>\n",
       "      <td>570.1041</td>\n",
       "      <td>60</td>\n",
       "      <td>SELL</td>\n",
       "      <td>venue3</td>\n",
       "    </tr>\n",
       "  </tbody>\n",
       "</table>"
      ],
      "text/plain": [
       "pykx.Table(pykx.q('\n",
       "date       sym    time         price    size side venue \n",
       "--------------------------------------------------------\n",
       "2022.03.31 GE.PRA 09:30:02.676 397.6131 12   BUY  venue1\n",
       "2022.03.31 MQC    09:30:02.851 254.8359 258  SELL venue3\n",
       "2022.03.31 BKR    09:30:03.426 93.64192 154  BUY  venue2\n",
       "2022.03.31 GE.PRA 09:30:04.489 397.5469 12   SELL venue2\n",
       "2022.03.31 DXGE   09:30:06.677 570.1041 60   SELL venue3\n",
       "'))"
      ]
     },
     "execution_count": 8,
     "metadata": {},
     "output_type": "execute_result"
    }
   ],
   "source": [
    "pykx_execs = kx.q.read.csv(\"data/execs.csv\", types=\"DSTFJSS\")\n",
    "d_funcs.count_records_and_print(pykx_execs)"
   ]
  },
  {
   "cell_type": "markdown",
   "id": "e77c3c94",
   "metadata": {},
   "source": [
    "##### Sort the tables on time"
   ]
  },
  {
   "cell_type": "markdown",
   "id": "c303b15c",
   "metadata": {},
   "source": [
    "We can sort these tables based on the `time` column using pykx's [`kx.q.xasc`](https://code.kx.com/pykx/api/q/q.html#xasc) function.\n",
    "This will apply a [sorted attribute](https://code.kx.com/q/ref/set-attribute/#sorted) to the `time` column in the table behind the scenes.\n",
    "This attribute will help to improve the time and memory performance of our queries when querying these tables on the `time` column."
   ]
  },
  {
   "cell_type": "code",
   "execution_count": 9,
   "id": "aaf40482",
   "metadata": {},
   "outputs": [],
   "source": [
    "pykx_quotes = kx.q.xasc(\"time\", pykx_quotes)\n",
    "pykx_trades = kx.q.xasc(\"time\", pykx_trades)\n",
    "pykx_execs = kx.q.xasc(\"time\", pykx_execs)"
   ]
  },
  {
   "cell_type": "markdown",
   "id": "e1e3e8f3",
   "metadata": {},
   "source": [
    "##### Group the sym column in the tables"
   ]
  },
  {
   "cell_type": "markdown",
   "id": "b036ed0b",
   "metadata": {},
   "source": [
    "We can also add a [grouped attribute](https://code.kx.com/q/ref/set-attribute/#grouped-and-parted) to the `sym` column in the table. This is done by updating the `sym` column in the table using the [`kx.q.qsql.update`](https://code.kx.com/pykx/api/query.html#pykx.query.QSQL.update) function so that it becomes a grouped `sym` column.\n",
    "This will help to improve the time and memory performance of our queries when querying these tables on the `sym` column."
   ]
  },
  {
   "cell_type": "code",
   "execution_count": 10,
   "id": "b7f81e4f",
   "metadata": {},
   "outputs": [],
   "source": [
    "pykx_quotes = kx.q.qsql.update(pykx_quotes, {\"sym\": \"`g#sym\"})\n",
    "pykx_trades = kx.q.qsql.update(pykx_trades, {\"sym\": \"`g#sym\"})\n",
    "pykx_execs = kx.q.qsql.update(pykx_execs, {\"sym\": \"`g#sym\"})"
   ]
  },
  {
   "cell_type": "markdown",
   "id": "07b0cf9a",
   "metadata": {},
   "source": [
    "# ------------------------------------------------------------------------------------------\n",
    "# 4. Exploring The Data"
   ]
  },
  {
   "cell_type": "markdown",
   "id": "c0d89d6e",
   "metadata": {},
   "source": [
    "Before performing the transaction cost analysis itself, it is useful to perform some initial analysis of the the data so we have an idea of the general trends and patterns in it.\n",
    "We will revolve this analysis around the slippage factor mentioned previously as this is the main value that we are trying to uncover when carrying out TCA.\n",
    "\n",
    "Slippage is the difference between the price a stock is bought or sold at and a pre-determined benchmark price.\n",
    "\n",
    "    Slippage = ExecutionPrice - BenchmarkPrice\n",
    "\n",
    "This value will vary from stock to stock and fluctuates extremely frequently based on a number of factors. These can be broken down as follows:\n",
    "\n",
    "<img src=\"images/slippage_breakdown.png\" width=\"900\"/>\n",
    "\n",
    "For a deeper dive into this, we will focus on the first 3 factors from the above image and try to visualise them over the course of a trading day for the first 2 stocks in our dataset.\n",
    "\n",
    "We can get a list of the distinct symbols using the [`kx.q.distinct`](https://code.kx.com/pykx/api/q/q.html#distinct) function and choose the first two of these."
   ]
  },
  {
   "cell_type": "code",
   "execution_count": 20,
   "id": "164be405",
   "metadata": {},
   "outputs": [
    {
     "data": {
      "text/plain": [
       "26"
      ]
     },
     "execution_count": 20,
     "metadata": {},
     "output_type": "execute_result"
    }
   ],
   "source": [
    "unique_syms = sorted(kx.q.distinct(pykx_quotes[\"sym\"]).py())\n",
    "len(unique_syms)"
   ]
  },
  {
   "cell_type": "code",
   "execution_count": 21,
   "id": "6e119708",
   "metadata": {},
   "outputs": [
    {
     "data": {
      "text/plain": [
       "['AEF', 'AGND']"
      ]
     },
     "execution_count": 21,
     "metadata": {},
     "output_type": "execute_result"
    }
   ],
   "source": [
    "plot_syms = unique_syms[:2]\n",
    "plot_syms"
   ]
  },
  {
   "cell_type": "markdown",
   "id": "682b07e7",
   "metadata": {},
   "source": [
    "### Define Analysis Functions"
   ]
  },
  {
   "cell_type": "markdown",
   "id": "bbf775b2",
   "metadata": {},
   "source": [
    "The way that this analysis will be performed is that, for each of the 3 slippage factors we want to analyse, we will define a generic python function which will calculate this metric based on input stock data.\n",
    "Once this is done, we will then call these python functions, iteratively passing in the stock data for each of the two stocks we want to analyse.\n",
    "\n",
    "The first step is defining a function for Volatility, Spread, and Liquidity."
   ]
  },
  {
   "cell_type": "markdown",
   "id": "6d9886c7",
   "metadata": {},
   "source": [
    "##### Calculate Volatility Using pandas API"
   ]
  },
  {
   "cell_type": "markdown",
   "id": "4a023e53",
   "metadata": {},
   "source": [
    "<img src=\"images/volatility.png\"/>\n",
    "\n",
    "Despite pykx being a python package, pykx works in the q memory space so you can use it to call q functions.\n",
    "\n",
    "This functionality may be used to call q functions which are defined in files on disk, however, here, for transparency, we will define this functions within the notebook.\n",
    "\n",
    "Using q via PyKX's [`kx.q`](https://code.kx.com/pykx/api/embedded_q.html) function, we can create a function called `get_volatility`, which will return the volatility of a stock based on it's bid and ask prices."
   ]
  },
  {
   "cell_type": "code",
   "execution_count": 22,
   "id": "03280115",
   "metadata": {},
   "outputs": [
    {
     "data": {
      "text/plain": [
       "pykx.Identity(pykx.q('::'))"
      ]
     },
     "execution_count": 22,
     "metadata": {},
     "output_type": "execute_result"
    }
   ],
   "source": [
    "kx.q(\"get_volatility: {[bid;ask] {r:0^log[x]-log next x;sqrt ema[0.001] r*r } 0.5*ask+bid};\")"
   ]
  },
  {
   "cell_type": "markdown",
   "id": "f50360d9",
   "metadata": {},
   "source": [
    "This `get_volatility` q function can then be accessed using the same [`kx.q`](https://code.kx.com/pykx/api/embedded_q.html) function that was used to create it.\n",
    "This can be seen below in the return statement of the volatility calculation where we pass the bid and ask columns into this function.\n",
    "\n",
    "The syntax for indexing Pandas dataframes is also supported on PyKX tables.\n",
    "This allows us to select a subset of the rows from the PyKX table based on:\n",
    "   - the specific symbols we are looking for,\n",
    "   - the time range being within the trading day of 9:30am to 4pm."
   ]
  },
  {
   "cell_type": "code",
   "execution_count": 23,
   "id": "409164c6",
   "metadata": {},
   "outputs": [],
   "source": [
    "def get_volatility(quotes, sym) -> dict:\n",
    "    subset_quotes = pykx_quotes.loc[\n",
    "        (pykx_quotes[\"sym\"] == sym)\n",
    "        & (pykx_quotes[\"time\"] > timedelta(hours=9, minutes=25))\n",
    "        & (pykx_quotes[\"time\"] < timedelta(hours=16, minutes=5))\n",
    "    ]\n",
    "    return {\n",
    "        \"datetime\": subset_quotes[\"date\"] + subset_quotes[\"time\"],\n",
    "        \"volatility\": kx.q(\"get_volatility\", subset_quotes[\"bid\"], subset_quotes[\"ask\"]),\n",
    "    }"
   ]
  },
  {
   "cell_type": "markdown",
   "id": "ea568397",
   "metadata": {},
   "source": [
    "##### Calculate Spreads Using qsql API"
   ]
  },
  {
   "cell_type": "markdown",
   "id": "e99870b7",
   "metadata": {},
   "source": [
    "<img src=\"images/spread.png\"/>\n",
    "\n",
    "We can also define and use python functions with PyKX.\n",
    "\n",
    "Here, we define a python function to calculate a moving average over a spread vector, where the spread is the ask price minus the bid price.\n",
    "Numpy's [`np.convolve`](https://numpy.org/doc/stable/reference/generated/numpy.convolve.html) function can then be used for creating the moving average vector from this spread vector.\n",
    "\n",
    "This helper function can then be called in our main spread function."
   ]
  },
  {
   "cell_type": "code",
   "execution_count": 24,
   "id": "7b494708",
   "metadata": {},
   "outputs": [],
   "source": [
    "def get_mavg_of_spread(bid, ask, mavg_size: int):\n",
    "    spreads = ask - bid\n",
    "    return np.convolve(spreads, np.ones(mavg_size), mode=\"same\") / mavg_size"
   ]
  },
  {
   "cell_type": "markdown",
   "id": "5168a6c7",
   "metadata": {},
   "source": [
    "PyKX supports many different ways of indexing tables and manipulating them.\n",
    "As shown above, the Pandas API is one of these ways.\n",
    "Another way of extracting a subset of the data from the PyKX table is using the [qsql select query API](https://code.kx.com/pykx/api/query.html#pykx.query.QSQL.select).\n",
    "\n",
    "This API has a q backend but uses a python like syntax for retrieving data from pykx tables. It takes:\n",
    "- the table we want to select from,\n",
    "- a dictionary defining what our resulting columns should be,\n",
    "- a list of conditions for the where clause.\n",
    "\n",
    "As the underlying language to this syntax is q, we must expose the above defined function to the q memory space, using PyKX to convert our python helper function into a q function.\n",
    "This allows us to use the function as a normal q function, supplying it with a bid, ask, and moving average value."
   ]
  },
  {
   "cell_type": "code",
   "execution_count": 25,
   "id": "d28739df",
   "metadata": {},
   "outputs": [],
   "source": [
    "kx.q[\"mavg_of_spread\"] = get_mavg_of_spread"
   ]
  },
  {
   "cell_type": "code",
   "execution_count": 26,
   "id": "92453e26",
   "metadata": {},
   "outputs": [],
   "source": [
    "def get_spread(quotes: kx.Table, sym: str) -> kx.Table:\n",
    "    return kx.q.qsql.select(\n",
    "        quotes,\n",
    "        columns={\"datetime\": \"date+time\", \"spread\": \"mavg_of_spread[bid; ask; 1000]\"},\n",
    "        where=[f\"sym=`{sym}\", \"time within (09:25;16:05)\"],\n",
    "    )"
   ]
  },
  {
   "cell_type": "markdown",
   "id": "8ad74614",
   "metadata": {},
   "source": [
    "##### Calculate Trading Volume Using SQL API"
   ]
  },
  {
   "cell_type": "markdown",
   "id": "658cf71d",
   "metadata": {},
   "source": [
    "<img src=\"images/liquidity.png\"/>\n",
    "\n",
    "For a liquidity calculation, we will actually focus on trading volume as there is a strong correlation between these two.\n",
    "\n",
    "    Trading Volume = NumSharesTraded * SharePrice\n",
    "\n",
    "Trading volume is usually calculated in time buckets in order to get a sense of it's value over time, so that it is not skewed by any one transaction.\n",
    "\n",
    "As such, here, we will calculate the trading volume for the given stock over each 10 minute window during the trading day.\n",
    "\n",
    "This can be done through PyKX's [SQL API](https://code.kx.com/pykx/api/query.html#pykx.query.SQL) using pure SQL code to query the PyKX table."
   ]
  },
  {
   "cell_type": "code",
   "execution_count": 27,
   "id": "b152803f",
   "metadata": {},
   "outputs": [],
   "source": [
    "def get_trading_volume(trades, sym) -> kx.Table:\n",
    "    return kx.q.sql(\n",
    "        \"\"\"\n",
    "        SELECT date+bucket AS interval, SUM(price*size) AS volume\n",
    "        FROM (SELECT CAST(SUBSTRING(time, 1, 4)||'0' AS TIME) AS bucket, date, price, size, sym FROM $1)\n",
    "        WHERE sym=$2\n",
    "              AND bucket >= CAST('09:30' as time)\n",
    "              AND bucket < CAST('16:00' as time)\n",
    "        GROUP BY bucket\n",
    "        \"\"\",\n",
    "        pykx_trades,\n",
    "        sym,\n",
    "    )"
   ]
  },
  {
   "cell_type": "markdown",
   "id": "c5339ed7",
   "metadata": {},
   "source": [
    "### Analyse Spreads, Predicted Volatility, and Trading Volume"
   ]
  },
  {
   "cell_type": "markdown",
   "id": "0e3db71e",
   "metadata": {},
   "source": [
    "Now we can iteratively call each of these functions to calculate their values for our 2 stock symbols and visualise these results.\n",
    "This can be done seamlessly and in an identical way to how somebody might do this using Pandas.\n",
    "\n",
    "The functions run to create the plots can be found in the `demo_functions.py` file in the same directory as this notebook.\n",
    "\n",
    "NOTE: This cell takes ~8 seconds to run as the resulting plots have to be rendered."
   ]
  },
  {
   "cell_type": "code",
   "execution_count": 63,
   "id": "b65aa05c-d748-48ec-adfa-6e6fb156fe92",
   "metadata": {},
   "outputs": [
    {
     "data": {
      "text/plain": [
       "array([<Axes: >, <Axes: >], dtype=object)"
      ]
     },
     "execution_count": 63,
     "metadata": {},
     "output_type": "execute_result"
    },
    {
     "data": {
      "image/png": "[encoded data removed]",
      "text/plain": [
       "<Figure size 1500x600 with 2 Axes>"
      ]
     },
     "metadata": {},
     "output_type": "display_data"
    }
   ],
   "source": [
    "fig, ax = plt.subplots(figsize=(15, 3 * len(plot_syms)), ncols=1, nrows=len(plot_syms))\n",
    "\n",
    "ax"
   ]
  },
  {
   "cell_type": "code",
   "execution_count": 46,
   "id": "d9295a27",
   "metadata": {},
   "outputs": [
    {
     "data": {
      "image/png": "[encoded data removed]",
      "text/plain": [
       "<Figure size 1500x600 with 6 Axes>"
      ]
     },
     "metadata": {},
     "output_type": "display_data"
    }
   ],
   "source": [
    "fig, ax = plt.subplots(figsize=(15, 3 * len(plot_syms)), ncols=2, nrows=len(plot_syms))\n",
    "plt.subplots_adjust(wspace=0.2, hspace=0.5)\n",
    "\n",
    "for i, sym in enumerate(plot_syms):\n",
    "\n",
    "    spread_tab = get_spread(pykx_quotes, sym)\n",
    "    volatility_dict = get_volatility(pykx_quotes, sym)\n",
    "    trad_vol_tab = get_trading_volume(pykx_trades, sym)\n",
    "\n",
    "    d_funcs.plot_spreads_volatility_and_trade_volume(\n",
    "        ax, sym, i, spread_tab, volatility_dict, trad_vol_tab\n",
    "    )\n",
    "\n",
    "plt.show()"
   ]
  },
  {
   "cell_type": "code",
   "execution_count": 48,
   "id": "faf80322-1f88-46d7-9ba5-f2eeb53edd40",
   "metadata": {},
   "outputs": [
    {
     "data": {
      "text/html": [
       "<table border=\"1\" class=\"dataframe\">\n",
       "  <thead>\n",
       "    <tr style=\"text-align: right;\">\n",
       "      <th></th>\n",
       "      <th>datetime</th>\n",
       "      <th>spread</th>\n",
       "    </tr>\n",
       "    <tr>\n",
       "      <th></th>\n",
       "      <th></th>\n",
       "      <th></th>\n",
       "    </tr>\n",
       "  </thead>\n",
       "  <tbody>\n",
       "    <tr>\n",
       "      <th>0</th>\n",
       "      <td>2022.03.31D09:25:03.491000000</td>\n",
       "      <td>10.76097</td>\n",
       "    </tr>\n",
       "    <tr>\n",
       "      <th>1</th>\n",
       "      <td>2022.03.31D09:25:46.166000000</td>\n",
       "      <td>10.77096</td>\n",
       "    </tr>\n",
       "    <tr>\n",
       "      <th>2</th>\n",
       "      <td>2022.03.31D09:27:01.015000000</td>\n",
       "      <td>10.78095</td>\n",
       "    </tr>\n",
       "    <tr>\n",
       "      <th>3</th>\n",
       "      <td>2022.03.31D09:27:10.556000000</td>\n",
       "      <td>10.79095</td>\n",
       "    </tr>\n",
       "    <tr>\n",
       "      <th>4</th>\n",
       "      <td>2022.03.31D09:27:10.557000000</td>\n",
       "      <td>10.80094</td>\n",
       "    </tr>\n",
       "    <tr>\n",
       "      <th>5</th>\n",
       "      <td>2022.03.31D09:27:36.596000000</td>\n",
       "      <td>10.81093</td>\n",
       "    </tr>\n",
       "    <tr>\n",
       "      <th>6</th>\n",
       "      <td>2022.03.31D09:27:36.596000000</td>\n",
       "      <td>10.82092</td>\n",
       "    </tr>\n",
       "    <tr>\n",
       "      <th>7</th>\n",
       "      <td>2022.03.31D09:27:40.324000000</td>\n",
       "      <td>10.83091</td>\n",
       "    </tr>\n",
       "    <tr>\n",
       "      <th>8</th>\n",
       "      <td>2022.03.31D09:27:40.340000000</td>\n",
       "      <td>10.8409</td>\n",
       "    </tr>\n",
       "    <tr>\n",
       "      <th>9</th>\n",
       "      <td>2022.03.31D09:27:57.304000000</td>\n",
       "      <td>10.85089</td>\n",
       "    </tr>\n",
       "    <tr>\n",
       "      <th>10</th>\n",
       "      <td>2022.03.31D09:27:57.304000000</td>\n",
       "      <td>10.86088</td>\n",
       "    </tr>\n",
       "    <tr>\n",
       "      <th>11</th>\n",
       "      <td>2022.03.31D09:27:57.307000000</td>\n",
       "      <td>10.87087</td>\n",
       "    </tr>\n",
       "    <tr>\n",
       "      <th>12</th>\n",
       "      <td>2022.03.31D09:28:00.013000000</td>\n",
       "      <td>10.87684</td>\n",
       "    </tr>\n",
       "    <tr>\n",
       "      <th>13</th>\n",
       "      <td>2022.03.31D09:28:00.097000000</td>\n",
       "      <td>10.87984</td>\n",
       "    </tr>\n",
       "    <tr>\n",
       "      <th>14</th>\n",
       "      <td>2022.03.31D09:28:03.250000000</td>\n",
       "      <td>10.8877</td>\n",
       "    </tr>\n",
       "    <tr>\n",
       "      <th>15</th>\n",
       "      <td>2022.03.31D09:28:04.370000000</td>\n",
       "      <td>10.89624</td>\n",
       "    </tr>\n",
       "    <tr>\n",
       "      <th>16</th>\n",
       "      <td>2022.03.31D09:28:18.976000000</td>\n",
       "      <td>10.95605</td>\n",
       "    </tr>\n",
       "    <tr>\n",
       "      <th>17</th>\n",
       "      <td>2022.03.31D09:28:18.976000000</td>\n",
       "      <td>10.96052</td>\n",
       "    </tr>\n",
       "    <tr>\n",
       "      <th>18</th>\n",
       "      <td>2022.03.31D09:28:18.976000000</td>\n",
       "      <td>10.96796</td>\n",
       "    </tr>\n",
       "    <tr>\n",
       "      <th>19</th>\n",
       "      <td>2022.03.31D09:28:18.976000000</td>\n",
       "      <td>10.97393</td>\n",
       "    </tr>\n",
       "    <tr>\n",
       "      <th>20</th>\n",
       "      <td>2022.03.31D09:28:18.977000000</td>\n",
       "      <td>10.98179</td>\n",
       "    </tr>\n",
       "    <tr>\n",
       "      <th>21</th>\n",
       "      <td>2022.03.31D09:28:18.977000000</td>\n",
       "      <td>10.98923</td>\n",
       "    </tr>\n",
       "    <tr>\n",
       "      <th>22</th>\n",
       "      <td>2022.03.31D09:28:19.796000000</td>\n",
       "      <td>11.04904</td>\n",
       "    </tr>\n",
       "    <tr>\n",
       "      <th>23</th>\n",
       "      <td>2022.03.31D09:28:19.796000000</td>\n",
       "      <td>11.07955</td>\n",
       "    </tr>\n",
       "    <tr>\n",
       "      <th>24</th>\n",
       "      <td>2022.03.31D09:28:30.699000000</td>\n",
       "      <td>11.08954</td>\n",
       "    </tr>\n",
       "    <tr>\n",
       "      <th>25</th>\n",
       "      <td>2022.03.31D09:29:03.123000000</td>\n",
       "      <td>11.09953</td>\n",
       "    </tr>\n",
       "    <tr>\n",
       "      <th>26</th>\n",
       "      <td>2022.03.31D09:29:25.199000000</td>\n",
       "      <td>11.10952</td>\n",
       "    </tr>\n",
       "    <tr>\n",
       "      <th>27</th>\n",
       "      <td>2022.03.31D09:29:25.199000000</td>\n",
       "      <td>11.11951</td>\n",
       "    </tr>\n",
       "    <tr>\n",
       "      <th>28</th>\n",
       "      <td>2022.03.31D09:29:25.200000000</td>\n",
       "      <td>11.1295</td>\n",
       "    </tr>\n",
       "    <tr>\n",
       "      <th>29</th>\n",
       "      <td>2022.03.31D09:29:25.200000000</td>\n",
       "      <td>11.13548</td>\n",
       "    </tr>\n",
       "    <tr>\n",
       "      <th>30</th>\n",
       "      <td>2022.03.31D09:29:30.427000000</td>\n",
       "      <td>11.14547</td>\n",
       "    </tr>\n",
       "    <tr>\n",
       "      <th>31</th>\n",
       "      <td>2022.03.31D09:29:38.114000000</td>\n",
       "      <td>11.15546</td>\n",
       "    </tr>\n",
       "    <tr>\n",
       "      <th>32</th>\n",
       "      <td>2022.03.31D09:29:50.052000000</td>\n",
       "      <td>11.16545</td>\n",
       "    </tr>\n",
       "    <tr>\n",
       "      <th>33</th>\n",
       "      <td>2022.03.31D09:29:52.031000000</td>\n",
       "      <td>11.16846</td>\n",
       "    </tr>\n",
       "    <tr>\n",
       "      <th>34</th>\n",
       "      <td>2022.03.31D09:29:52.042000000</td>\n",
       "      <td>11.17632</td>\n",
       "    </tr>\n",
       "    <tr>\n",
       "      <th>35</th>\n",
       "      <td>2022.03.31D09:30:00.039000000</td>\n",
       "      <td>11.18485</td>\n",
       "    </tr>\n",
       "    <tr>\n",
       "      <th>36</th>\n",
       "      <td>2022.03.31D09:30:00.040000000</td>\n",
       "      <td>11.19083</td>\n",
       "    </tr>\n",
       "    <tr>\n",
       "      <th>37</th>\n",
       "      <td>2022.03.31D09:30:00.426000000</td>\n",
       "      <td>11.19869</td>\n",
       "    </tr>\n",
       "    <tr>\n",
       "      <th>38</th>\n",
       "      <td>2022.03.31D09:30:00.524000000</td>\n",
       "      <td>11.2292</td>\n",
       "    </tr>\n",
       "    <tr>\n",
       "      <th>39</th>\n",
       "      <td>2022.03.31D09:30:00.524000000</td>\n",
       "      <td>11.23919</td>\n",
       "    </tr>\n",
       "    <tr>\n",
       "      <th>40</th>\n",
       "      <td>2022.03.31D09:30:00.524000000</td>\n",
       "      <td>11.24705</td>\n",
       "    </tr>\n",
       "    <tr>\n",
       "      <th>41</th>\n",
       "      <td>2022.03.31D09:30:00.525000000</td>\n",
       "      <td>11.25491</td>\n",
       "    </tr>\n",
       "    <tr>\n",
       "      <th>42</th>\n",
       "      <td>2022.03.31D09:30:00.529000000</td>\n",
       "      <td>11.2649</td>\n",
       "    </tr>\n",
       "    <tr>\n",
       "      <th>43</th>\n",
       "      <td>2022.03.31D09:30:00.530000000</td>\n",
       "      <td>11.27489</td>\n",
       "    </tr>\n",
       "    <tr>\n",
       "      <th>44</th>\n",
       "      <td>2022.03.31D09:30:00.530000000</td>\n",
       "      <td>11.28488</td>\n",
       "    </tr>\n",
       "    <tr>\n",
       "      <th>45</th>\n",
       "      <td>2022.03.31D09:30:00.536000000</td>\n",
       "      <td>11.29487</td>\n",
       "    </tr>\n",
       "    <tr>\n",
       "      <th>46</th>\n",
       "      <td>2022.03.31D09:30:00.568000000</td>\n",
       "      <td>11.30486</td>\n",
       "    </tr>\n",
       "    <tr>\n",
       "      <th>47</th>\n",
       "      <td>2022.03.31D09:30:00.663000000</td>\n",
       "      <td>11.31485</td>\n",
       "    </tr>\n",
       "    <tr>\n",
       "      <th>...</th>\n",
       "      <td>...</td>\n",
       "      <td>...</td>\n",
       "    </tr>\n",
       "    <tr>\n",
       "      <th>337499</th>\n",
       "      <td>2022.03.31D16:04:40.966000000</td>\n",
       "      <td>11.37742</td>\n",
       "    </tr>\n",
       "  </tbody>\n",
       "</table>\n",
       "<p>337,500 rows × 2 columns</p>"
      ],
      "text/plain": [
       "pykx.Table(pykx.q('\n",
       "datetime                      spread  \n",
       "--------------------------------------\n",
       "2022.03.31D09:25:03.491000000 10.76097\n",
       "2022.03.31D09:25:46.166000000 10.77096\n",
       "2022.03.31D09:27:01.015000000 10.78095\n",
       "2022.03.31D09:27:10.556000000 10.79095\n",
       "2022.03.31D09:27:10.557000000 10.80094\n",
       "2022.03.31D09:27:36.596000000 10.81093\n",
       "2022.03.31D09:27:36.596000000 10.82092\n",
       "2022.03.31D09:27:40.324000000 10.83091\n",
       "2022.03.31D09:27:40.340000000 10.8409 \n",
       "2022.03.31D09:27:57.304000000 10.85089\n",
       "2022.03.31D09:27:57.304000000 10.86088\n",
       "2022.03.31D09:27:57.307000000 10.87087\n",
       "2022.03.31D09:28:00.013000000 10.87684\n",
       "2022.03.31D09:28:00.097000000 10.87984\n",
       "2022.03.31D09:28:03.250000000 10.8877 \n",
       "2022.03.31D09:28:04.370000000 10.89624\n",
       "2022.03.31D09:28:18.976000000 10.95605\n",
       "2022.03.31D09:28:18.976000000 10.96052\n",
       "2022.03.31D09:28:18.976000000 10.96796\n",
       "2022.03.31D09:28:18.976000000 10.97393\n",
       "2022.03.31D09:28:18.977000000 10.98179\n",
       "2022.03.31D09:28:18.977000000 10.98923\n",
       "2022.03.31D09:28:19.796000000 11.04904\n",
       "2022.03.31D09:28:19.796000000 11.07955\n",
       "2022.03.31D09:28:30.699000000 11.08954\n",
       "2022.03.31D09:29:03.123000000 11.09953\n",
       "2022.03.31D09:29:25.199000000 11.10952\n",
       "2022.03.31D09:29:25.199000000 11.11951\n",
       "2022.03.31D09:29:25.200000000 11.1295 \n",
       "2022.03.31D09:29:25.200000000 11.13548\n",
       "2022.03.31D09:29:30.427000000 11.14547\n",
       "2022.03.31D09:29:38.114000000 11.15546\n",
       "2022.03.31D09:29:50.052000000 11.16545\n",
       "2022.03.31D09:29:52.031000000 11.16846\n",
       "2022.03.31D09:29:52.042000000 11.17632\n",
       "2022.03.31D09:30:00.039000000 11.18485\n",
       "2022.03.31D09:30:00.040000000 11.19083\n",
       "2022.03.31D09:30:00.426000000 11.19869\n",
       "2022.03.31D09:30:00.524000000 11.2292 \n",
       "2022.03.31D09:30:00.524000000 11.23919\n",
       "2022.03.31D09:30:00.524000000 11.24705\n",
       "2022.03.31D09:30:00.525000000 11.25491\n",
       "2022.03.31D09:30:00.529000000 11.2649 \n",
       "2022.03.31D09:30:00.530000000 11.27489\n",
       "2022.03.31D09:30:00.530000000 11.28488\n",
       "..\n",
       "'))"
      ]
     },
     "execution_count": 48,
     "metadata": {},
     "output_type": "execute_result"
    }
   ],
   "source": [
    "get_spread(pykx_quotes, plot_syms[0])"
   ]
  },
  {
   "cell_type": "code",
   "execution_count": 65,
   "id": "d2f9d663-f203-4dc1-9d70-2332875ef643",
   "metadata": {},
   "outputs": [
    {
     "data": {
      "text/plain": [
       "{'datetime': pykx.TimestampVector(pykx.q('2022.03.31D09:25:03.491000000 2022.03.31D09:25:46.166000000 2022.03.31D09:27:01.015000000 2022.03.31D09:27:10.556000000 2022.03.31D09:27:10.557000000 2022.03.31D09:27:36.596000000 2022.03.31D09:27:36.596000000 2022.03.31D09:27:40.324000000 2022.03.31D09:27:40.340000000 2022.03.31D09:27:57.3040000..')),\n",
       " 'volatility': pykx.FloatVector(pykx.q('0.003473635 0.003496871 0.003534634 0.003532866 0.003612577 0.003686721 0.003689011 0.003687166 0.003688629 0.00369009 0.003688245 0.003686691 0.003684847 0.003684642 0.003682799 0.003731983 0.003734018 0.003810196 0.00380829 0.003879471 0.0039493 0.004012355 0.004074374 0.004072382 0.004070896 0..'))}"
      ]
     },
     "execution_count": 65,
     "metadata": {},
     "output_type": "execute_result"
    }
   ],
   "source": [
    "get_volatility(pykx_quotes, plot_syms[0])"
   ]
  },
  {
   "cell_type": "code",
   "execution_count": 64,
   "id": "f41d0128-9e4e-4f98-93a2-59ed1dbcc5c3",
   "metadata": {},
   "outputs": [
    {
     "data": {
      "text/html": [
       "<table border=\"1\" class=\"dataframe\">\n",
       "  <thead>\n",
       "    <tr style=\"text-align: right;\">\n",
       "      <th></th>\n",
       "      <th>interval</th>\n",
       "      <th>volume</th>\n",
       "    </tr>\n",
       "    <tr>\n",
       "      <th></th>\n",
       "      <th></th>\n",
       "      <th></th>\n",
       "    </tr>\n",
       "  </thead>\n",
       "  <tbody>\n",
       "    <tr>\n",
       "      <th>0</th>\n",
       "      <td>2022.03.31D09:30:00.000000000</td>\n",
       "      <td>2.197469e+07</td>\n",
       "    </tr>\n",
       "    <tr>\n",
       "      <th>1</th>\n",
       "      <td>2022.03.31D09:40:00.000000000</td>\n",
       "      <td>4.394176e+07</td>\n",
       "    </tr>\n",
       "    <tr>\n",
       "      <th>2</th>\n",
       "      <td>2022.03.31D09:50:00.000000000</td>\n",
       "      <td>3.664388e+07</td>\n",
       "    </tr>\n",
       "    <tr>\n",
       "      <th>3</th>\n",
       "      <td>2022.03.31D10:00:00.000000000</td>\n",
       "      <td>2.65078e+07</td>\n",
       "    </tr>\n",
       "    <tr>\n",
       "      <th>4</th>\n",
       "      <td>2022.03.31D10:10:00.000000000</td>\n",
       "      <td>2.60495e+07</td>\n",
       "    </tr>\n",
       "    <tr>\n",
       "      <th>5</th>\n",
       "      <td>2022.03.31D10:20:00.000000000</td>\n",
       "      <td>2.998326e+07</td>\n",
       "    </tr>\n",
       "    <tr>\n",
       "      <th>6</th>\n",
       "      <td>2022.03.31D10:30:00.000000000</td>\n",
       "      <td>3.473124e+07</td>\n",
       "    </tr>\n",
       "    <tr>\n",
       "      <th>7</th>\n",
       "      <td>2022.03.31D10:40:00.000000000</td>\n",
       "      <td>3.480725e+07</td>\n",
       "    </tr>\n",
       "    <tr>\n",
       "      <th>8</th>\n",
       "      <td>2022.03.31D10:50:00.000000000</td>\n",
       "      <td>1.395849e+07</td>\n",
       "    </tr>\n",
       "    <tr>\n",
       "      <th>9</th>\n",
       "      <td>2022.03.31D11:00:00.000000000</td>\n",
       "      <td>1.087334e+07</td>\n",
       "    </tr>\n",
       "    <tr>\n",
       "      <th>10</th>\n",
       "      <td>2022.03.31D11:10:00.000000000</td>\n",
       "      <td>1.942882e+07</td>\n",
       "    </tr>\n",
       "    <tr>\n",
       "      <th>11</th>\n",
       "      <td>2022.03.31D11:20:00.000000000</td>\n",
       "      <td>1.972313e+07</td>\n",
       "    </tr>\n",
       "    <tr>\n",
       "      <th>12</th>\n",
       "      <td>2022.03.31D11:30:00.000000000</td>\n",
       "      <td>2.862987e+07</td>\n",
       "    </tr>\n",
       "    <tr>\n",
       "      <th>13</th>\n",
       "      <td>2022.03.31D11:40:00.000000000</td>\n",
       "      <td>3.473959e+07</td>\n",
       "    </tr>\n",
       "    <tr>\n",
       "      <th>14</th>\n",
       "      <td>2022.03.31D11:50:00.000000000</td>\n",
       "      <td>1.299558e+07</td>\n",
       "    </tr>\n",
       "    <tr>\n",
       "      <th>15</th>\n",
       "      <td>2022.03.31D12:00:00.000000000</td>\n",
       "      <td>1.270742e+07</td>\n",
       "    </tr>\n",
       "    <tr>\n",
       "      <th>16</th>\n",
       "      <td>2022.03.31D12:10:00.000000000</td>\n",
       "      <td>1.518459e+07</td>\n",
       "    </tr>\n",
       "    <tr>\n",
       "      <th>17</th>\n",
       "      <td>2022.03.31D12:20:00.000000000</td>\n",
       "      <td>1.435095e+07</td>\n",
       "    </tr>\n",
       "    <tr>\n",
       "      <th>18</th>\n",
       "      <td>2022.03.31D12:30:00.000000000</td>\n",
       "      <td>1.291921e+07</td>\n",
       "    </tr>\n",
       "    <tr>\n",
       "      <th>19</th>\n",
       "      <td>2022.03.31D12:40:00.000000000</td>\n",
       "      <td>8828685f</td>\n",
       "    </tr>\n",
       "    <tr>\n",
       "      <th>20</th>\n",
       "      <td>2022.03.31D12:50:00.000000000</td>\n",
       "      <td>1.232899e+07</td>\n",
       "    </tr>\n",
       "    <tr>\n",
       "      <th>21</th>\n",
       "      <td>2022.03.31D13:00:00.000000000</td>\n",
       "      <td>1.031772e+07</td>\n",
       "    </tr>\n",
       "    <tr>\n",
       "      <th>22</th>\n",
       "      <td>2022.03.31D13:10:00.000000000</td>\n",
       "      <td>9148166f</td>\n",
       "    </tr>\n",
       "    <tr>\n",
       "      <th>23</th>\n",
       "      <td>2022.03.31D13:20:00.000000000</td>\n",
       "      <td>1.685646e+07</td>\n",
       "    </tr>\n",
       "    <tr>\n",
       "      <th>24</th>\n",
       "      <td>2022.03.31D13:30:00.000000000</td>\n",
       "      <td>1.152144e+07</td>\n",
       "    </tr>\n",
       "    <tr>\n",
       "      <th>25</th>\n",
       "      <td>2022.03.31D13:40:00.000000000</td>\n",
       "      <td>9217088f</td>\n",
       "    </tr>\n",
       "    <tr>\n",
       "      <th>26</th>\n",
       "      <td>2022.03.31D13:50:00.000000000</td>\n",
       "      <td>8764718f</td>\n",
       "    </tr>\n",
       "    <tr>\n",
       "      <th>27</th>\n",
       "      <td>2022.03.31D14:00:00.000000000</td>\n",
       "      <td>3.0252e+07</td>\n",
       "    </tr>\n",
       "    <tr>\n",
       "      <th>28</th>\n",
       "      <td>2022.03.31D14:10:00.000000000</td>\n",
       "      <td>2.365102e+07</td>\n",
       "    </tr>\n",
       "    <tr>\n",
       "      <th>29</th>\n",
       "      <td>2022.03.31D14:20:00.000000000</td>\n",
       "      <td>1.833423e+07</td>\n",
       "    </tr>\n",
       "    <tr>\n",
       "      <th>30</th>\n",
       "      <td>2022.03.31D14:30:00.000000000</td>\n",
       "      <td>7767315f</td>\n",
       "    </tr>\n",
       "    <tr>\n",
       "      <th>31</th>\n",
       "      <td>2022.03.31D14:40:00.000000000</td>\n",
       "      <td>1.192903e+07</td>\n",
       "    </tr>\n",
       "    <tr>\n",
       "      <th>32</th>\n",
       "      <td>2022.03.31D14:50:00.000000000</td>\n",
       "      <td>7765709f</td>\n",
       "    </tr>\n",
       "    <tr>\n",
       "      <th>33</th>\n",
       "      <td>2022.03.31D15:00:00.000000000</td>\n",
       "      <td>1.221011e+07</td>\n",
       "    </tr>\n",
       "    <tr>\n",
       "      <th>34</th>\n",
       "      <td>2022.03.31D15:10:00.000000000</td>\n",
       "      <td>8493383f</td>\n",
       "    </tr>\n",
       "    <tr>\n",
       "      <th>35</th>\n",
       "      <td>2022.03.31D15:20:00.000000000</td>\n",
       "      <td>1.300312e+07</td>\n",
       "    </tr>\n",
       "    <tr>\n",
       "      <th>36</th>\n",
       "      <td>2022.03.31D15:30:00.000000000</td>\n",
       "      <td>2.042967e+07</td>\n",
       "    </tr>\n",
       "    <tr>\n",
       "      <th>37</th>\n",
       "      <td>2022.03.31D15:40:00.000000000</td>\n",
       "      <td>2.70573e+07</td>\n",
       "    </tr>\n",
       "    <tr>\n",
       "      <th>38</th>\n",
       "      <td>2022.03.31D15:50:00.000000000</td>\n",
       "      <td>8.911305e+07</td>\n",
       "    </tr>\n",
       "  </tbody>\n",
       "</table>"
      ],
      "text/plain": [
       "pykx.Table(pykx.q('\n",
       "interval                      volume      \n",
       "------------------------------------------\n",
       "2022.03.31D09:30:00.000000000 2.197469e+07\n",
       "2022.03.31D09:40:00.000000000 4.394176e+07\n",
       "2022.03.31D09:50:00.000000000 3.664388e+07\n",
       "2022.03.31D10:00:00.000000000 2.65078e+07 \n",
       "2022.03.31D10:10:00.000000000 2.60495e+07 \n",
       "2022.03.31D10:20:00.000000000 2.998326e+07\n",
       "2022.03.31D10:30:00.000000000 3.473124e+07\n",
       "2022.03.31D10:40:00.000000000 3.480725e+07\n",
       "2022.03.31D10:50:00.000000000 1.395849e+07\n",
       "2022.03.31D11:00:00.000000000 1.087334e+07\n",
       "2022.03.31D11:10:00.000000000 1.942882e+07\n",
       "2022.03.31D11:20:00.000000000 1.972313e+07\n",
       "2022.03.31D11:30:00.000000000 2.862987e+07\n",
       "2022.03.31D11:40:00.000000000 3.473959e+07\n",
       "2022.03.31D11:50:00.000000000 1.299558e+07\n",
       "2022.03.31D12:00:00.000000000 1.270742e+07\n",
       "2022.03.31D12:10:00.000000000 1.518459e+07\n",
       "2022.03.31D12:20:00.000000000 1.435095e+07\n",
       "2022.03.31D12:30:00.000000000 1.291921e+07\n",
       "2022.03.31D12:40:00.000000000 8828685     \n",
       "2022.03.31D12:50:00.000000000 1.232899e+07\n",
       "2022.03.31D13:00:00.000000000 1.031772e+07\n",
       "2022.03.31D13:10:00.000000000 9148166     \n",
       "2022.03.31D13:20:00.000000000 1.685646e+07\n",
       "2022.03.31D13:30:00.000000000 1.152144e+07\n",
       "2022.03.31D13:40:00.000000000 9217088     \n",
       "2022.03.31D13:50:00.000000000 8764718     \n",
       "2022.03.31D14:00:00.000000000 3.0252e+07  \n",
       "2022.03.31D14:10:00.000000000 2.365102e+07\n",
       "2022.03.31D14:20:00.000000000 1.833423e+07\n",
       "2022.03.31D14:30:00.000000000 7767315     \n",
       "2022.03.31D14:40:00.000000000 1.192903e+07\n",
       "2022.03.31D14:50:00.000000000 7765709     \n",
       "2022.03.31D15:00:00.000000000 1.221011e+07\n",
       "2022.03.31D15:10:00.000000000 8493383     \n",
       "2022.03.31D15:20:00.000000000 1.300312e+07\n",
       "2022.03.31D15:30:00.000000000 2.042967e+07\n",
       "2022.03.31D15:40:00.000000000 2.70573e+07 \n",
       "2022.03.31D15:50:00.000000000 8.911305e+07\n",
       "'))"
      ]
     },
     "execution_count": 64,
     "metadata": {},
     "output_type": "execute_result"
    }
   ],
   "source": [
    "\n",
    "get_trading_volume(pykx_trades, plot_syms[0])"
   ]
  },
  {
   "cell_type": "markdown",
   "id": "6ec1b049",
   "metadata": {},
   "source": [
    "##### Plot Analysis"
   ]
  },
  {
   "cell_type": "markdown",
   "id": "11150f4a",
   "metadata": {},
   "source": [
    "We can see that on the LHS, as the volatility increases, the spread also increases.\n",
    "\n",
    "This LHS plot also tells us that the volatility and spread are greater at both the open and close of the day.\n",
    "\n",
    "This corrolates well with the trading volume plot on the RHS, where we can see that there is more trading volume at day open and close.\n",
    "\n",
    "Generally, at the end of the day, traders will minimise their market exposure so that they are not at risk to big market moves overnight.\n",
    "This results in a lot of buying and selling and hence, more volatility."
   ]
  },
  {
   "cell_type": "markdown",
   "id": "b81266da",
   "metadata": {},
   "source": [
    "# ------------------------------------------------------------------------------------------\n",
    "# 5. Performing Transaction Cost Analysis"
   ]
  },
  {
   "cell_type": "markdown",
   "id": "5e71090b",
   "metadata": {},
   "source": [
    "Now that we have a better idea of what makes up this slippage value and how it is effected based on it's various factors, we can calculate the transaction cost for clients using the PyKX tables we have read in.\n",
    "\n",
    "As this slippage factor is measured as the execution price minus the benchmark price, the chosen benchmark price is pivotal to the overall results derived."
   ]
  },
  {
   "cell_type": "markdown",
   "id": "e70e1184",
   "metadata": {},
   "source": [
    "### What are the common benchmark prices?"
   ]
  },
  {
   "cell_type": "markdown",
   "id": "7e2783d3",
   "metadata": {},
   "source": [
    "There are many ways to choose a benchmark price. Some common choices include:\n",
    "- a moving average of the last traded prices\n",
    "- the midpoint between the latest quoted bid and ask prices (arrival mid price)\n",
    "- the last traded price\n",
    "\n",
    "In this example, we will use the arrival mid price as our benchmark price.\n",
    "\n",
    "<img src=\"images/arrival_mid_and_slippage.png\" width=\"900\"/>"
   ]
  },
  {
   "cell_type": "markdown",
   "id": "a0797dee",
   "metadata": {},
   "source": [
    "### Compare Executed Price To Mid Quoted Price"
   ]
  },
  {
   "cell_type": "markdown",
   "id": "f1d6e7da",
   "metadata": {},
   "source": [
    "The first step in this analysis is to join the quotes and execution tables together so that we can accurately compare the quoted bid and ask prices with the execution prices.\n",
    "\n",
    "This is done using what's called an *asof join* - where we join the quotes to the executions, taking the latest quote data as of the execution time.\n",
    "\n",
    "So if my execution occurred at 2pm and there was a quote at 1:58, 1:59, and 2:01, we would match my 2pm execution with the quote that occurred at 1:59.\n",
    "\n",
    "<img src=\"images/aj.png\" width=\"900\"/>\n",
    "\n",
    "We can join the tables here using PyKX's [`kx.q.aj`](https://code.kx.com/pykx/api/q/q.html#aj) function, joining on the `sym` and `time` columns in both tables."
   ]
  },
  {
   "cell_type": "code",
   "execution_count": 29,
   "id": "be59609e",
   "metadata": {},
   "outputs": [],
   "source": [
    "merged = kx.q.aj(kx.SymbolVector([\"sym\", \"time\"]), pykx_execs, pykx_quotes)"
   ]
  },
  {
   "cell_type": "markdown",
   "id": "394ff829",
   "metadata": {},
   "source": [
    "Once the tables are joined, we can compute:\n",
    "- the arrival mid prices,\n",
    "- the difference between the arrival mid and the executed price,\n",
    "- the resulting slippage, measured in basis points."
   ]
  },
  {
   "cell_type": "code",
   "execution_count": 30,
   "id": "9e50cb98",
   "metadata": {},
   "outputs": [],
   "source": [
    "merged[\"mid\"] = 0.5 * (merged[\"bid\"] + merged[\"ask\"])\n",
    "merged[\"diff\"] = np.where(\n",
    "    merged[\"side\"] == \"BUY\", merged[\"mid\"] - merged[\"price\"], merged[\"price\"] - merged[\"mid\"]\n",
    ")\n",
    "merged[\"slippage\"] = (merged[\"diff\"] / merged[\"mid\"]) * 10000"
   ]
  },
  {
   "cell_type": "markdown",
   "id": "1ac6807d",
   "metadata": {},
   "source": [
    "The resulting pykx table will look as follows, where we have:\n",
    "- identifier columns ----------- (date, sym, time)\n",
    "- the execution data ---------- (price, size, side, venue)\n",
    "- the quote data --------------- (bid, ask, bsize, asksize, mode, ex)\n",
    "- the 3 additional columns -- (mid, diff, slippage)"
   ]
  },
  {
   "cell_type": "code",
   "execution_count": 31,
   "id": "eaa3bce9",
   "metadata": {},
   "outputs": [
    {
     "data": {
      "text/html": [
       "<table border=\"1\" class=\"dataframe\">\n",
       "  <thead>\n",
       "    <tr style=\"text-align: right;\">\n",
       "      <th></th>\n",
       "      <th>date</th>\n",
       "      <th>sym</th>\n",
       "      <th>time</th>\n",
       "      <th>price</th>\n",
       "      <th>size</th>\n",
       "      <th>side</th>\n",
       "      <th>venue</th>\n",
       "      <th>bid</th>\n",
       "      <th>ask</th>\n",
       "      <th>bsize</th>\n",
       "      <th>asize</th>\n",
       "      <th>mode</th>\n",
       "      <th>ex</th>\n",
       "      <th>mid</th>\n",
       "      <th>diff</th>\n",
       "      <th>slippage</th>\n",
       "    </tr>\n",
       "    <tr>\n",
       "      <th></th>\n",
       "      <th></th>\n",
       "      <th></th>\n",
       "      <th></th>\n",
       "      <th></th>\n",
       "      <th></th>\n",
       "      <th></th>\n",
       "      <th></th>\n",
       "      <th></th>\n",
       "      <th></th>\n",
       "      <th></th>\n",
       "      <th></th>\n",
       "      <th></th>\n",
       "      <th></th>\n",
       "      <th></th>\n",
       "      <th></th>\n",
       "      <th></th>\n",
       "    </tr>\n",
       "  </thead>\n",
       "  <tbody>\n",
       "    <tr>\n",
       "      <th>0</th>\n",
       "      <td>2022.03.31</td>\n",
       "      <td>GE.PRA</td>\n",
       "      <td>09:30:02.676</td>\n",
       "      <td>397.6131</td>\n",
       "      <td>12</td>\n",
       "      <td>BUY</td>\n",
       "      <td>venue1</td>\n",
       "      <td>396.51</td>\n",
       "      <td>397.96</td>\n",
       "      <td>1</td>\n",
       "      <td>1</td>\n",
       "      <td>R</td>\n",
       "      <td>N</td>\n",
       "      <td>397.235</td>\n",
       "      <td>-0.3781</td>\n",
       "      <td>-9.518295</td>\n",
       "    </tr>\n",
       "    <tr>\n",
       "      <th>1</th>\n",
       "      <td>2022.03.31</td>\n",
       "      <td>MQC</td>\n",
       "      <td>09:30:02.851</td>\n",
       "      <td>254.8359</td>\n",
       "      <td>258</td>\n",
       "      <td>SELL</td>\n",
       "      <td>venue3</td>\n",
       "      <td>254.32</td>\n",
       "      <td>254.99</td>\n",
       "      <td>2</td>\n",
       "      <td>1</td>\n",
       "      <td>R</td>\n",
       "      <td>V</td>\n",
       "      <td>254.655</td>\n",
       "      <td>0.1809</td>\n",
       "      <td>7.103729</td>\n",
       "    </tr>\n",
       "    <tr>\n",
       "      <th>2</th>\n",
       "      <td>2022.03.31</td>\n",
       "      <td>BKR</td>\n",
       "      <td>09:30:03.426</td>\n",
       "      <td>93.64192</td>\n",
       "      <td>154</td>\n",
       "      <td>BUY</td>\n",
       "      <td>venue2</td>\n",
       "      <td>93.64</td>\n",
       "      <td>93.72</td>\n",
       "      <td>1</td>\n",
       "      <td>1</td>\n",
       "      <td>R</td>\n",
       "      <td>N</td>\n",
       "      <td>93.68</td>\n",
       "      <td>0.03808</td>\n",
       "      <td>4.064902</td>\n",
       "    </tr>\n",
       "    <tr>\n",
       "      <th>3</th>\n",
       "      <td>2022.03.31</td>\n",
       "      <td>GE.PRA</td>\n",
       "      <td>09:30:04.489</td>\n",
       "      <td>397.5469</td>\n",
       "      <td>12</td>\n",
       "      <td>SELL</td>\n",
       "      <td>venue2</td>\n",
       "      <td>397.21</td>\n",
       "      <td>398.8</td>\n",
       "      <td>1</td>\n",
       "      <td>2</td>\n",
       "      <td>R</td>\n",
       "      <td>T</td>\n",
       "      <td>398.005</td>\n",
       "      <td>-0.4581</td>\n",
       "      <td>-11.50991</td>\n",
       "    </tr>\n",
       "    <tr>\n",
       "      <th>4</th>\n",
       "      <td>2022.03.31</td>\n",
       "      <td>DXGE</td>\n",
       "      <td>09:30:06.677</td>\n",
       "      <td>570.1041</td>\n",
       "      <td>60</td>\n",
       "      <td>SELL</td>\n",
       "      <td>venue3</td>\n",
       "      <td>569.08</td>\n",
       "      <td>571.34</td>\n",
       "      <td>2</td>\n",
       "      <td>3</td>\n",
       "      <td>R</td>\n",
       "      <td>P</td>\n",
       "      <td>570.21</td>\n",
       "      <td>-0.1059</td>\n",
       "      <td>-1.857211</td>\n",
       "    </tr>\n",
       "    <tr>\n",
       "      <th>5</th>\n",
       "      <td>2022.03.31</td>\n",
       "      <td>AXJL</td>\n",
       "      <td>09:30:08.354</td>\n",
       "      <td>500.0938</td>\n",
       "      <td>89</td>\n",
       "      <td>SELL</td>\n",
       "      <td>venue3</td>\n",
       "      <td>499.15</td>\n",
       "      <td>500.93</td>\n",
       "      <td>1</td>\n",
       "      <td>2</td>\n",
       "      <td>R</td>\n",
       "      <td>T</td>\n",
       "      <td>500.04</td>\n",
       "      <td>0.0538</td>\n",
       "      <td>1.075914</td>\n",
       "    </tr>\n",
       "    <tr>\n",
       "      <th>6</th>\n",
       "      <td>2022.03.31</td>\n",
       "      <td>DXGE</td>\n",
       "      <td>09:30:08.896</td>\n",
       "      <td>570.3715</td>\n",
       "      <td>81</td>\n",
       "      <td>BUY</td>\n",
       "      <td>venue2</td>\n",
       "      <td>569.17</td>\n",
       "      <td>571.34</td>\n",
       "      <td>2</td>\n",
       "      <td>1</td>\n",
       "      <td>R</td>\n",
       "      <td>P</td>\n",
       "      <td>570.255</td>\n",
       "      <td>-0.1165</td>\n",
       "      <td>-2.042946</td>\n",
       "    </tr>\n",
       "    <tr>\n",
       "      <th>7</th>\n",
       "      <td>2022.03.31</td>\n",
       "      <td>GE.PRA</td>\n",
       "      <td>09:30:08.945</td>\n",
       "      <td>397.3688</td>\n",
       "      <td>181</td>\n",
       "      <td>BUY</td>\n",
       "      <td>venue3</td>\n",
       "      <td>397.11</td>\n",
       "      <td>398.25</td>\n",
       "      <td>2</td>\n",
       "      <td>4</td>\n",
       "      <td>R</td>\n",
       "      <td>N</td>\n",
       "      <td>397.68</td>\n",
       "      <td>0.3112</td>\n",
       "      <td>7.825387</td>\n",
       "    </tr>\n",
       "    <tr>\n",
       "      <th>8</th>\n",
       "      <td>2022.03.31</td>\n",
       "      <td>AXJL</td>\n",
       "      <td>09:30:09.139</td>\n",
       "      <td>500.1021</td>\n",
       "      <td>38</td>\n",
       "      <td>BUY</td>\n",
       "      <td>venue3</td>\n",
       "      <td>499.15</td>\n",
       "      <td>500.93</td>\n",
       "      <td>2</td>\n",
       "      <td>1</td>\n",
       "      <td>R</td>\n",
       "      <td>V</td>\n",
       "      <td>500.04</td>\n",
       "      <td>-0.0621</td>\n",
       "      <td>-1.241901</td>\n",
       "    </tr>\n",
       "    <tr>\n",
       "      <th>9</th>\n",
       "      <td>2022.03.31</td>\n",
       "      <td>AXJL</td>\n",
       "      <td>09:30:09.372</td>\n",
       "      <td>499.7552</td>\n",
       "      <td>153</td>\n",
       "      <td>BUY</td>\n",
       "      <td>venue3</td>\n",
       "      <td>499.15</td>\n",
       "      <td>500.93</td>\n",
       "      <td>2</td>\n",
       "      <td>1</td>\n",
       "      <td>R</td>\n",
       "      <td>V</td>\n",
       "      <td>500.04</td>\n",
       "      <td>0.2848</td>\n",
       "      <td>5.695544</td>\n",
       "    </tr>\n",
       "  </tbody>\n",
       "</table>"
      ],
      "text/plain": [
       "pykx.Table(pykx.q('\n",
       "date       sym    time         price    size side venue  bid    ask    bsize asize mode ex mid     diff    slippage \n",
       "--------------------------------------------------------------------------------------------------------------------\n",
       "2022.03.31 GE.PRA 09:30:02.676 397.6131 12   BUY  venue1 396.51 397.96 1     1     R    N  397.235 -0.3781 -9.518295\n",
       "2022.03.31 MQC    09:30:02.851 254.8359 258  SELL venue3 254.32 254.99 2     1     R    V  254.655 0.1809  7.103729 \n",
       "2022.03.31 BKR    09:30:03.426 93.64192 154  BUY  venue2 93.64  93.72  1     1     R    N  93.68   0.03808 4.064902 \n",
       "2022.03.31 GE.PRA 09:30:04.489 397.5469 12   SELL venue2 397.21 398.8  1     2     R    T  398.005 -0.4581 -11.50991\n",
       "2022.03.31 DXGE   09:30:06.677 570.1041 60   SELL venue3 569.08 571.34 2     3     R    P  570.21  -0.1059 -1.857211\n",
       "2022.03.31 AXJL   09:30:08.354 500.0938 89   SELL venue3 499.15 500.93 1     2     R    T  500.04  0.0538  1.075914 \n",
       "2022.03.31 DXGE   09:30:08.896 570.3715 81   BUY  venue2 569.17 571.34 2     1     R    P  570.255 -0.1165 -2.042946\n",
       "2022.03.31 GE.PRA 09:30:08.945 397.3688 181  BUY  venue3 397.11 398.25 2     4     R    N  397.68  0.3112  7.825387 \n",
       "2022.03.31 AXJL   09:30:09.139 500.1021 38   BUY  venue3 499.15 500.93 2     1     R    V  500.04  -0.0621 -1.241901\n",
       "2022.03.31 AXJL   09:30:09.372 499.7552 153  BUY  venue3 499.15 500.93 2     1     R    V  500.04  0.2848  5.695544 \n",
       "'))"
      ]
     },
     "execution_count": 31,
     "metadata": {},
     "output_type": "execute_result"
    }
   ],
   "source": [
    "merged.head(10)"
   ]
  },
  {
   "cell_type": "markdown",
   "id": "8d649a03",
   "metadata": {},
   "source": [
    "As part of this analysis, a broker may want to compare the venues which they executed their trades against to see which venue had a lower slippage, and hence gave a better price for their clients.\n",
    "If a broker can ensure they execute trades on the venue which is most favourable for their clients, this enables that client to get a cheaper price and hence make them happier to trade with the broker.\n",
    "\n",
    "Using a function defined in the `demo_functions.py` file contained alongside this notebook, we can graph the slippage for each of the venues in the dataset by volume and check how the slippage for each venue fares relative to one another."
   ]
  },
  {
   "cell_type": "code",
   "execution_count": 32,
   "id": "f9891709",
   "metadata": {},
   "outputs": [
    {
     "data": {
      "image/png": "[encoded data removed]",
      "text/plain": [
       "<Figure size 1500x700 with 1 Axes>"
      ]
     },
     "metadata": {},
     "output_type": "display_data"
    }
   ],
   "source": [
    "d_funcs.plot_slippage(merged.pd())"
   ]
  },
  {
   "cell_type": "markdown",
   "id": "0087986a",
   "metadata": {},
   "source": [
    "The resulting graph paints us a clear picture that the slippage is lower for venue 1 and 2, when compared with venue 3.\n",
    "\n",
    "This analysis might allow us to make better dicisions on which venues we execute our trades against to get the best price for our clients.\n",
    "If we were a broker, in this case, we might choose to avoid executing trades on venue3 and just use venue 1 and 2."
   ]
  },
  {
   "cell_type": "markdown",
   "id": "fd0a95de",
   "metadata": {},
   "source": [
    "# ------------------------------------------------------------------------------------------\n",
    "# 6. Comparing PyKX Vs Pandas"
   ]
  },
  {
   "cell_type": "markdown",
   "id": "9f9a3bea",
   "metadata": {},
   "source": [
    "This section contains a comparison of PyKX and Pandas in terms of speed and memory footprint.\n",
    "\n",
    "Both packages will perform the same TCA calculations there we run in the above sections, with the time taken and memory used for each being recorded."
   ]
  },
  {
   "cell_type": "markdown",
   "id": "c6348171",
   "metadata": {},
   "source": [
    "### Define Pandas dataframes"
   ]
  },
  {
   "cell_type": "markdown",
   "id": "dfa27d1f",
   "metadata": {},
   "source": [
    "We have already read the data into PyKX tables, but, we need to define Pandas dataframes of the same data so we can use this for the comparison.\n",
    "\n",
    "This conversion can easily be done using PyKX's [`.pd()`](https://code.kx.com/pykx/1.4/api/wrappers.html#pykx.wrappers.List.np) method to turn the PyKX table into a Pandas dataframe."
   ]
  },
  {
   "cell_type": "code",
   "execution_count": 33,
   "id": "8c3661d0",
   "metadata": {},
   "outputs": [],
   "source": [
    "quotes_df = pykx_quotes.pd()\n",
    "trades_df = pykx_trades.pd()\n",
    "execs_df = pykx_execs.pd()"
   ]
  },
  {
   "cell_type": "markdown",
   "id": "392b8ca4",
   "metadata": {},
   "source": [
    "### Run TCA in both PyKX and Pandas"
   ]
  },
  {
   "cell_type": "markdown",
   "id": "ca1f1cad",
   "metadata": {},
   "source": [
    "We can now run these exact same calculations in both pykx and pandas, capturing both the memory and time taken for these calculations to be performed in each.\n",
    "The time is recorded using the built in [`%%timeit`](https://ipython.readthedocs.io/en/stable/interactive/magics.html#magic-timeit) magic command.\n",
    "The memory is recorded using the `%%memit` magic command built into the [memory profiler](https://pypi.org/project/memory-profiler/) package.\n",
    "\n",
    "These metrics are stored into variables using the [`%%capture`](https://ipython.readthedocs.io/en/stable/interactive/magics.html#cellmagic-capture) magic command.\n",
    "This allows for easy comparison once all the time and memory results have been captured."
   ]
  },
  {
   "cell_type": "markdown",
   "id": "66331147",
   "metadata": {},
   "source": [
    "##### PyKX"
   ]
  },
  {
   "cell_type": "code",
   "execution_count": 34,
   "id": "9d8ed258",
   "metadata": {},
   "outputs": [],
   "source": [
    "d_funcs.collect_garbage()"
   ]
  },
  {
   "cell_type": "code",
   "execution_count": 35,
   "id": "bfa9c2f2",
   "metadata": {},
   "outputs": [],
   "source": [
    "%%capture pykx_mem_res\n",
    "%%memit -i 0.01\n",
    "\n",
    "# merge tables\n",
    "pykx_merged = kx.q.aj(kx.SymbolVector([\"sym\", \"time\"]), pykx_execs, pykx_quotes)\n",
    "\n",
    "# define 3 new columns\n",
    "pykx_merged[\"mid\"] = 0.5 * (pykx_merged[\"bid\"] + pykx_merged[\"ask\"])\n",
    "pykx_merged[\"diff\"] = np.where(\n",
    "    pykx_merged[\"side\"] == \"BUY\",\n",
    "    pykx_merged[\"mid\"] - pykx_merged[\"price\"],\n",
    "    pykx_merged[\"price\"] - pykx_merged[\"mid\"],\n",
    ")\n",
    "pykx_merged[\"slippage\"] = (pykx_merged[\"diff\"] / pykx_merged[\"mid\"]) * 10000"
   ]
  },
  {
   "cell_type": "code",
   "execution_count": 36,
   "id": "40373715",
   "metadata": {},
   "outputs": [],
   "source": [
    "d_funcs.collect_garbage()"
   ]
  },
  {
   "cell_type": "code",
   "execution_count": 38,
   "id": "08d17d01",
   "metadata": {},
   "outputs": [],
   "source": [
    "%%capture pykx_time_res\n",
    "%%timeit\n",
    "\n",
    "# merge tables\n",
    "pykx_merged = kx.q.aj(kx.SymbolVector([\"sym\", \"time\"]), pykx_execs, pykx_quotes)\n",
    "\n",
    "# define 3 new columns\n",
    "pykx_merged[\"mid\"] = 0.5 * (pykx_merged[\"bid\"] + pykx_merged[\"ask\"])\n",
    "pykx_merged[\"diff\"] = np.where(\n",
    "    pykx_merged[\"side\"] == \"BUY\",\n",
    "    pykx_merged[\"mid\"] - pykx_merged[\"price\"],\n",
    "    pykx_merged[\"price\"] - pykx_merged[\"mid\"],\n",
    ")\n",
    "pykx_merged[\"slippage\"] = (pykx_merged[\"diff\"] / pykx_merged[\"mid\"]) * 10000"
   ]
  },
  {
   "cell_type": "markdown",
   "id": "aaed990b",
   "metadata": {},
   "source": [
    "##### Pandas"
   ]
  },
  {
   "cell_type": "code",
   "execution_count": 39,
   "id": "41db2286",
   "metadata": {},
   "outputs": [],
   "source": [
    "d_funcs.collect_garbage()"
   ]
  },
  {
   "cell_type": "code",
   "execution_count": 40,
   "id": "e5a7e11c",
   "metadata": {},
   "outputs": [],
   "source": [
    "%%capture pandas_mem_res\n",
    "%%memit -i 0.01\n",
    "\n",
    "# merge tables\n",
    "python_merged = pd.merge_asof(execs_df, quotes_df, on=\"time\", by=\"sym\")\n",
    "\n",
    "# define 3 new columns\n",
    "python_merged[\"mid\"] = 0.5 * (python_merged[\"bid\"] + python_merged[\"ask\"])\n",
    "python_merged[\"diff\"] = np.where(\n",
    "    python_merged[\"side\"] == \"BUY\",\n",
    "    python_merged[\"mid\"] - python_merged[\"price\"],\n",
    "    python_merged[\"price\"] - python_merged[\"mid\"],\n",
    ")\n",
    "python_merged[\"slippage\"] = (python_merged[\"diff\"] / python_merged[\"mid\"]) * 10000"
   ]
  },
  {
   "cell_type": "code",
   "execution_count": 41,
   "id": "328f2262",
   "metadata": {},
   "outputs": [],
   "source": [
    "d_funcs.collect_garbage()"
   ]
  },
  {
   "cell_type": "code",
   "execution_count": 42,
   "id": "ca966431",
   "metadata": {},
   "outputs": [],
   "source": [
    "%%capture pandas_time_res\n",
    "%%timeit\n",
    "\n",
    "# merge tables\n",
    "python_merged = pd.merge_asof(execs_df, quotes_df, on=\"time\", by=\"sym\")\n",
    "\n",
    "# define 3 new columns\n",
    "python_merged[\"mid\"] = 0.5 * (python_merged[\"bid\"] + python_merged[\"ask\"])\n",
    "python_merged[\"diff\"] = np.where(\n",
    "    python_merged[\"side\"] == \"BUY\",\n",
    "    python_merged[\"mid\"] - python_merged[\"price\"],\n",
    "    python_merged[\"price\"] - python_merged[\"mid\"],\n",
    ")\n",
    "python_merged[\"slippage\"] = (python_merged[\"diff\"] / python_merged[\"mid\"]) * 10000"
   ]
  },
  {
   "cell_type": "markdown",
   "id": "86b130a2",
   "metadata": {},
   "source": [
    "##### Define results"
   ]
  },
  {
   "cell_type": "code",
   "execution_count": 43,
   "id": "2fb2effc",
   "metadata": {},
   "outputs": [],
   "source": [
    "time_res_df, mem_res_df = d_funcs.parse_vals(\n",
    "    pandas_time_res, pykx_time_res, pandas_mem_res, pykx_mem_res\n",
    ")"
   ]
  },
  {
   "cell_type": "markdown",
   "id": "32f473fa",
   "metadata": {},
   "source": [
    "### Visualise Results"
   ]
  },
  {
   "cell_type": "markdown",
   "id": "92633be3",
   "metadata": {},
   "source": [
    "To get a sense of how these PyKX and Pandas compare, it is useful to show their relative performance alongside one another.\n",
    "\n",
    "Using a number of helper functions defined in the `demo_functions.py` file that comes alongside this notebook, we can easily show the numeric values associated with each and also a visualisation of this."
   ]
  },
  {
   "cell_type": "markdown",
   "id": "45f7098b",
   "metadata": {},
   "source": [
    "##### Visualise Speed Improvements"
   ]
  },
  {
   "cell_type": "code",
   "execution_count": 44,
   "id": "a3394c91",
   "metadata": {},
   "outputs": [
    {
     "name": "stdout",
     "output_type": "stream",
     "text": [
      "+----+----------+------------+-----------+--------+---------+\n",
      "|    | syntax   | avg_time   | avg_dev   |   runs |   loops |\n",
      "|----+----------+------------+-----------+--------+---------|\n",
      "|  0 | Pandas   | 1.5 s      | 30.2 ms   |      7 |       1 |\n",
      "|  1 | PyKX     | 17.4 ms    | 218 us    |      7 |     100 |\n",
      "+----+----------+------------+-----------+--------+---------+\n",
      "\u001b[1m\n",
      "The 'avg_time' for 'PyKX' is 86.21 times less than 'Pandas'.\n",
      "\u001b[0m\n"
     ]
    },
    {
     "data": {
      "image/png": "[encoded data removed]",
      "text/plain": [
       "<Figure size 700x300 with 1 Axes>"
      ]
     },
     "metadata": {},
     "output_type": "display_data"
    }
   ],
   "source": [
    "numeric_time_res_df = d_funcs.graph_time_data(time_res_df)"
   ]
  },
  {
   "cell_type": "markdown",
   "id": "7e2b8791",
   "metadata": {},
   "source": [
    "When we visualise the time related results, we can see there is a massive speedup between pandas and pykx, with pykx being ~85 times faster than pandas at performing this calculation.\n",
    "\n",
    "Pykx leverages the underlying power of q to perform these operations, allowing Python developers to take advantage of the optimisations inherent to q when dealing with large datasets."
   ]
  },
  {
   "cell_type": "markdown",
   "id": "55d025bb",
   "metadata": {},
   "source": [
    "##### Visualise Memory Improvments"
   ]
  },
  {
   "cell_type": "code",
   "execution_count": 45,
   "id": "8a250b65",
   "metadata": {},
   "outputs": [
    {
     "name": "stdout",
     "output_type": "stream",
     "text": [
      "+----+----------+----------------+--------------------+\n",
      "|    | syntax   | total_memory   | memory_increment   |\n",
      "|----+----------+----------------+--------------------|\n",
      "|  0 | Pandas   | 2461.62 MiB    | 478.27 MiB         |\n",
      "|  1 | PyKX     | 1982.93 MiB    | 1.70 MiB           |\n",
      "+----+----------+----------------+--------------------+\n",
      "\u001b[1m\n",
      "The 'memory_increment' for 'PyKX' is 281.34 times less than 'Pandas'.\n",
      "\u001b[0m\n"
     ]
    },
    {
     "data": {
      "image/png": "[encoded data removed]",
      "text/plain": [
       "<Figure size 700x300 with 1 Axes>"
      ]
     },
     "metadata": {},
     "output_type": "display_data"
    }
   ],
   "source": [
    "numeric_mem_res_df = d_funcs.graph_memory_data(mem_res_df)"
   ]
  },
  {
   "cell_type": "markdown",
   "id": "04b7beb4",
   "metadata": {},
   "source": [
    "We can also visualise the memory footprint of running these calculations in both pandas and pykx.\n",
    "\n",
    "Here again, pykx comes out on top, showing a similarly massive decrease in the memory usage.\n",
    "\n",
    "This shows the extreme efficiency of q for both memory and speed."
   ]
  }
 ],
 "metadata": {
  "kernelspec": {
   "display_name": "Python 3 (ipykernel)",
   "language": "python",
   "name": "python3"
  },
  "language_info": {
   "codemirror_mode": {
    "name": "ipython",
    "version": 3
   },
   "file_extension": ".py",
   "mimetype": "text/x-python",
   "name": "python",
   "nbconvert_exporter": "python",
   "pygments_lexer": "ipython3",
   "version": "3.10.6"
  }
 },
 "nbformat": 4,
 "nbformat_minor": 5
}
